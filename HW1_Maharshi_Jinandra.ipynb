{
 "cells": [
  {
   "cell_type": "code",
   "execution_count": 1,
   "id": "fuzzy-mortality",
   "metadata": {},
   "outputs": [],
   "source": [
    "import numpy as np"
   ]
  },
  {
   "cell_type": "code",
   "execution_count": 2,
   "id": "stunning-specialist",
   "metadata": {},
   "outputs": [
    {
     "data": {
      "text/plain": [
       "numpy.ndarray"
      ]
     },
     "execution_count": 2,
     "metadata": {},
     "output_type": "execute_result"
    }
   ],
   "source": [
    "# 1). Convert a Python list x=[1,2,3] into a Numpy array.\n",
    "x = [1,2,3]\n",
    "\n",
    "m = np.asarray(x)\n",
    "type(m)"
   ]
  },
  {
   "cell_type": "code",
   "execution_count": 3,
   "id": "ideal-windsor",
   "metadata": {},
   "outputs": [
    {
     "data": {
      "text/plain": [
       "array([[6, 6],\n",
       "       [6, 6],\n",
       "       [6, 6]])"
      ]
     },
     "execution_count": 3,
     "metadata": {},
     "output_type": "execute_result"
    }
   ],
   "source": [
    "# 2). Create an 2D array with shape of (3,2), filled with 6\n",
    "np.full(shape=(3,2), fill_value=6)"
   ]
  },
  {
   "cell_type": "code",
   "execution_count": 4,
   "id": "rotary-multimedia",
   "metadata": {},
   "outputs": [
    {
     "name": "stdout",
     "output_type": "stream",
     "text": [
      "[  2   4   6   8  10  12  14  16  18  20  22  24  26  28  30  32  34  36\n",
      "  38  40  42  44  46  48  50  52  54  56  58  60  62  64  66  68  70  72\n",
      "  74  76  78  80  82  84  86  88  90  92  94  96  98 100]\n",
      "Mean = 51.0\n"
     ]
    }
   ],
   "source": [
    "# 3). Create an array of 2, 4, 6, 8, ..., 98, 100; and find the mean value.\n",
    "a = np.arange(start=2, stop=101, step=2)\n",
    "print(a)\n",
    "print(\"Mean = {}\".format(a.mean()))"
   ]
  },
  {
   "cell_type": "code",
   "execution_count": 5,
   "id": "virtual-terrace",
   "metadata": {},
   "outputs": [
    {
     "name": "stdout",
     "output_type": "stream",
     "text": [
      "[[[75.85506793 85.71616948 97.91520814]\n",
      "  [70.50449964 80.39539317 28.43951956]\n",
      "  [48.84619024 10.88954027 48.35152924]]\n",
      "\n",
      " [[ 3.3180294  98.42031837 15.3246024 ]\n",
      "  [92.68835059 36.17938659 92.08404505]\n",
      "  [10.30007893 38.03668129 16.18694889]]\n",
      "\n",
      " [[74.0002151  90.19981295 39.20007442]\n",
      "  [83.49279578 35.23473836 23.91403276]\n",
      "  [64.31235969 71.30966667 21.75407498]]]\n",
      "Min: 3.318029395305089, Max: 98.42031836906435\n"
     ]
    }
   ],
   "source": [
    "# 4). Create an 3x3x3 array filled with arbitrary values; and find the minimum and maximum values.\n",
    "m = np.random.random(size=(3, 3, 3)) * 100\n",
    "print(m)\n",
    "print(\"Min: {}, Max: {}\".format(m.min(), m.max()))"
   ]
  },
  {
   "cell_type": "code",
   "execution_count": 6,
   "id": "lovely-injection",
   "metadata": {},
   "outputs": [
    {
     "data": {
      "text/plain": [
       "array([[10, 11, 12, 13],\n",
       "       [14, 15, 16, 17],\n",
       "       [18, 19, 20, 21]])"
      ]
     },
     "execution_count": 6,
     "metadata": {},
     "output_type": "execute_result"
    }
   ],
   "source": [
    "# 5). Create a 3x4 2D array filled with values from 10 to 21 (inclusive).\n",
    "m = np.arange(start=10, stop=22).reshape(3, 4)\n",
    "m"
   ]
  },
  {
   "cell_type": "code",
   "execution_count": 7,
   "id": "italian-courtesy",
   "metadata": {},
   "outputs": [
    {
     "name": "stdout",
     "output_type": "stream",
     "text": [
      "Length: 10\n"
     ]
    },
    {
     "data": {
      "text/plain": [
       "array([ 5,  8, 11, 14, 17, 20, 23, 26, 29, 32])"
      ]
     },
     "execution_count": 7,
     "metadata": {},
     "output_type": "execute_result"
    }
   ],
   "source": [
    "# 6). Create a numpy array of length 10, starting from 5 and has a step of 3 between consecutive numbers.\n",
    "m = np.arange(start=5, stop=5+10*3, step=3)\n",
    "print(\"Length:\", m.size)\n",
    "m"
   ]
  },
  {
   "cell_type": "code",
   "execution_count": 8,
   "id": "clear-madness",
   "metadata": {},
   "outputs": [
    {
     "name": "stdout",
     "output_type": "stream",
     "text": [
      "Size:100, Itemsize:8, Memory size:800 bytes\n"
     ]
    }
   ],
   "source": [
    "# 7). Create an arbitrary array of shape (10,10); and find the memory size of this array.\n",
    "m = np.random.random(size=(10, 10))\n",
    "print(\"Size:{}, Itemsize:{}, Memory size:{} bytes\".format(m.size, m.itemsize, m.size * m.itemsize))"
   ]
  },
  {
   "cell_type": "code",
   "execution_count": 9,
   "id": "convinced-redhead",
   "metadata": {},
   "outputs": [
    {
     "data": {
      "text/plain": [
       "array([0, 0, 0, 0, 1, 0, 0, 0, 0, 0])"
      ]
     },
     "execution_count": 9,
     "metadata": {},
     "output_type": "execute_result"
    }
   ],
   "source": [
    "# 8). Create a null array of size 10 but the fifth value which is 1.\n",
    "(np.arange(10) == 5-1) * 1"
   ]
  },
  {
   "cell_type": "code",
   "execution_count": 10,
   "id": "weird-carpet",
   "metadata": {},
   "outputs": [
    {
     "data": {
      "text/plain": [
       "array([49, 48, 47, 46, 45, 44, 43, 42, 41, 40, 39, 38, 37, 36, 35, 34, 33,\n",
       "       32, 31, 30, 29, 28, 27, 26, 25, 24, 23, 22, 21, 20, 19, 18, 17, 16,\n",
       "       15, 14, 13, 12, 11, 10])"
      ]
     },
     "execution_count": 10,
     "metadata": {},
     "output_type": "execute_result"
    }
   ],
   "source": [
    "# 9). Create an array with values ranging from 10 to 49; and reverse it then (first element becomes last).\n",
    "np.flip(np.arange(10, 49+1), axis=0)"
   ]
  },
  {
   "cell_type": "code",
   "execution_count": 11,
   "id": "exceptional-polyester",
   "metadata": {},
   "outputs": [
    {
     "data": {
      "text/plain": [
       "array([[0.54826469, 0.71447418],\n",
       "       [0.60216061, 0.5443383 ],\n",
       "       [0.42323114, 0.64524822]])"
      ]
     },
     "execution_count": 11,
     "metadata": {},
     "output_type": "execute_result"
    }
   ],
   "source": [
    "# 10). Create an array of shape (3, 2) with random values from a uniform distribution over [0, 1) and \n",
    "    # confirm you can get the same value when you run it next time.\n",
    "np.random.seed(0)\n",
    "np.random.uniform(low=0, high=1 - .001, size=(3, 2))"
   ]
  },
  {
   "cell_type": "code",
   "execution_count": 12,
   "id": "worldwide-ministry",
   "metadata": {},
   "outputs": [
    {
     "data": {
      "text/plain": [
       "array([[1., 1., 1., 1., 1., 1., 1., 1., 1., 1.],\n",
       "       [1., 0., 0., 0., 0., 0., 0., 0., 0., 1.],\n",
       "       [1., 0., 0., 0., 0., 0., 0., 0., 0., 1.],\n",
       "       [1., 0., 0., 0., 0., 0., 0., 0., 0., 1.],\n",
       "       [1., 0., 0., 0., 0., 0., 0., 0., 0., 1.],\n",
       "       [1., 0., 0., 0., 0., 0., 0., 0., 0., 1.],\n",
       "       [1., 0., 0., 0., 0., 0., 0., 0., 0., 1.],\n",
       "       [1., 0., 0., 0., 0., 0., 0., 0., 0., 1.],\n",
       "       [1., 0., 0., 0., 0., 0., 0., 0., 0., 1.],\n",
       "       [1., 1., 1., 1., 1., 1., 1., 1., 1., 1.]])"
      ]
     },
     "execution_count": 12,
     "metadata": {},
     "output_type": "execute_result"
    }
   ],
   "source": [
    "# 11). Create a 2d 10x10 array with 1 on the border and 0 inside.\n",
    "m = np.ones(shape=(10, 10))\n",
    "m[1: -1, 1: -1] = 0\n",
    "m"
   ]
  },
  {
   "cell_type": "code",
   "execution_count": 13,
   "id": "split-vaccine",
   "metadata": {},
   "outputs": [
    {
     "data": {
      "text/plain": [
       "array([[0., 0., 0., 0., 0., 0., 0.],\n",
       "       [0., 1., 1., 1., 1., 1., 0.],\n",
       "       [0., 1., 1., 1., 1., 1., 0.],\n",
       "       [0., 1., 1., 1., 1., 1., 0.],\n",
       "       [0., 1., 1., 1., 1., 1., 0.],\n",
       "       [0., 1., 1., 1., 1., 1., 0.],\n",
       "       [0., 0., 0., 0., 0., 0., 0.]])"
      ]
     },
     "execution_count": 13,
     "metadata": {},
     "output_type": "execute_result"
    }
   ],
   "source": [
    "# 12). Add a border (filled with 0's) around an existing array:\n",
    "m = np.ones(shape=(5, 5))\n",
    "m = np.pad(array=m, pad_width=1)\n",
    "m"
   ]
  },
  {
   "cell_type": "code",
   "execution_count": 14,
   "id": "nearby-representative",
   "metadata": {},
   "outputs": [
    {
     "data": {
      "text/plain": [
       "array([[1, 0, 0, 0, 0],\n",
       "       [0, 2, 0, 0, 0],\n",
       "       [0, 0, 3, 0, 0],\n",
       "       [0, 0, 0, 4, 0],\n",
       "       [0, 0, 0, 0, 5]])"
      ]
     },
     "execution_count": 14,
     "metadata": {},
     "output_type": "execute_result"
    }
   ],
   "source": [
    "# 13). Create a 5x5 2D array with values 1,2,3,4,5 on the diagonal\n",
    "m = np.diag(range(1,6))\n",
    "m"
   ]
  },
  {
   "cell_type": "code",
   "execution_count": 15,
   "id": "effective-electric",
   "metadata": {},
   "outputs": [
    {
     "data": {
      "text/plain": [
       "array([[0., 1., 2., 3., 4.],\n",
       "       [0., 1., 2., 3., 4.],\n",
       "       [0., 1., 2., 3., 4.],\n",
       "       [0., 1., 2., 3., 4.],\n",
       "       [0., 1., 2., 3., 4.]])"
      ]
     },
     "execution_count": 15,
     "metadata": {},
     "output_type": "execute_result"
    }
   ],
   "source": [
    "# 14). Create a 5x5 matrix with row values ranging from 0 to 4\n",
    "# np.repeat(np.arange(0., 5.), 5).reshape(5,5).T\n",
    "np.tile(np.arange(0., 5.), 5).reshape(5, 5)"
   ]
  },
  {
   "cell_type": "code",
   "execution_count": 16,
   "id": "bearing-patrick",
   "metadata": {},
   "outputs": [
    {
     "data": {
      "text/plain": [
       "array([0.07103606, 0.0871293 , 0.38344152, 0.43758721, 0.52889492,\n",
       "       0.56804456, 0.79172504, 0.891773  , 0.92559664, 0.96366276])"
      ]
     },
     "execution_count": 16,
     "metadata": {},
     "output_type": "execute_result"
    }
   ],
   "source": [
    "# 15). Create a random array of size 10 and sort it. \n",
    "m = np.random.random(size=10)\n",
    "m.sort()\n",
    "m"
   ]
  },
  {
   "cell_type": "code",
   "execution_count": 17,
   "id": "functional-protein",
   "metadata": {},
   "outputs": [
    {
     "name": "stdout",
     "output_type": "stream",
     "text": [
      "index of 5th repetition of number 1 is 8\n"
     ]
    }
   ],
   "source": [
    "# 1). Find the index of 5th repetition of number 1 in the given array x.\n",
    "x = np.array([1, 2, 1, 1, 3, 4, 3, 1, 1, 2, 1, 1, 2])\n",
    "\n",
    "it = np.nditer(x, flags=['f_index'])\n",
    "i = 0; lfi = 5; lf = 1\n",
    "\n",
    "while not it.finished:\n",
    "    if lf == it.value:\n",
    "        i += 1\n",
    "        if i == lfi:\n",
    "            print(\"index of 5th repetition of number 1 is\", it.index)\n",
    "            break\n",
    "\n",
    "    is_not_finished = it.iternext()"
   ]
  },
  {
   "cell_type": "code",
   "execution_count": 18,
   "id": "convenient-postcard",
   "metadata": {},
   "outputs": [
    {
     "data": {
      "text/plain": [
       "[array([1, 2, 3, 4]), array([5, 6]), array([7, 8, 9])]"
      ]
     },
     "execution_count": 18,
     "metadata": {},
     "output_type": "execute_result"
    }
   ],
   "source": [
    "# 2). Use arange to get an array [1, 2, 3, ..., 9]. Split x into 3 arrays,\n",
    "    # each of which has 4, 2, and 3 elements in the original order.\n",
    "m = np.arange(1, 10)\n",
    "np.split(m, [4, 4+2])"
   ]
  },
  {
   "cell_type": "code",
   "execution_count": 19,
   "id": "acoustic-wisdom",
   "metadata": {},
   "outputs": [
    {
     "data": {
      "text/plain": [
       "[array([[ 0.,  1.],\n",
       "        [ 4.,  5.],\n",
       "        [ 8.,  9.],\n",
       "        [12., 13.]]),\n",
       " array([[ 2.,  3.],\n",
       "        [ 6.,  7.],\n",
       "        [10., 11.],\n",
       "        [14., 15.]])]"
      ]
     },
     "execution_count": 19,
     "metadata": {},
     "output_type": "execute_result"
    }
   ],
   "source": [
    "# 3). Use arange to generate the following 2D array:\n",
    "# [[ 0., 1., 2., 3.],\n",
    "#  [ 4., 5., 6., 7.],\n",
    "#  [ 8., 9., 10., 11.],\n",
    "#  [ 12., 13., 14., 15.]]\n",
    "m = np.arange(0., 16.).reshape(4, 4)\n",
    "np.hsplit(m, 2)"
   ]
  },
  {
   "cell_type": "code",
   "execution_count": 20,
   "id": "other-prayer",
   "metadata": {},
   "outputs": [
    {
     "name": "stdout",
     "output_type": "stream",
     "text": [
      "(1)\n",
      " [[10 15]\n",
      " [25 30]]\n",
      "(2) 20\n"
     ]
    }
   ],
   "source": [
    "# 4). Given an 2D array:\n",
    "# [[5,10,15],\n",
    "#  [20,25,30],\n",
    "#  [35,40,45]]\n",
    "# (1) Slicing to get the sub-array [[10,15], [25,30]]\n",
    "# (2) Getting individual element value \"20\"\n",
    "m = np.arange(5, 46, 5).reshape(3, 3)\n",
    "print(\"(1)\\n\", m[:2, 1:])\n",
    "print(\"(2)\", m[1, 0])"
   ]
  },
  {
   "cell_type": "code",
   "execution_count": 21,
   "id": "fifth-extreme",
   "metadata": {},
   "outputs": [
    {
     "data": {
      "text/plain": [
       "array([[ 1,  2,  3,  7,  8,  9],\n",
       "       [ 4,  5,  6, 10, 11, 12]])"
      ]
     },
     "execution_count": 21,
     "metadata": {},
     "output_type": "execute_result"
    }
   ],
   "source": [
    "# 5). Let x be an array:\n",
    "# [[ 1 2 3],\n",
    "#  [ 4 5 6]].\n",
    "# and y be an array\n",
    "# [[ 7 8 9],\n",
    "#  [10 11 12]].\n",
    "# Concatenate x and y so that a new array looks like\n",
    "# [[1, 2, 3, 7, 8, 9],\n",
    "#  [4, 5, 6, 10, 11, 12]].\n",
    "x = np.arange(1, 7).reshape(2, 3)\n",
    "y = np.arange(7, 13).reshape(2, 3)\n",
    "np.concatenate((x, y), axis=1)"
   ]
  },
  {
   "cell_type": "code",
   "execution_count": 22,
   "id": "taken-namibia",
   "metadata": {},
   "outputs": [
    {
     "name": "stdout",
     "output_type": "stream",
     "text": [
      "[[8 4 2]\n",
      " [7 8 8]\n",
      " [6 4 8]\n",
      " [2 6 1]\n",
      " [5 8 1]]\n"
     ]
    },
    {
     "data": {
      "text/plain": [
       "array([0.25      , 0.875     , 0.5       , 0.16666667, 0.125     ])"
      ]
     },
     "execution_count": 22,
     "metadata": {},
     "output_type": "execute_result"
    }
   ],
   "source": [
    "# 6). Compute the min/max (min is divided by max) for each row for a given 2d array,\n",
    "#     in which integer values range from 1 to 10 [1,10) and shape is (5,3).\n",
    "# Here requires a random seed to keep the same value from the random generator.\n",
    "np.random.seed(101)\n",
    "\n",
    "def func(row):\n",
    "    return row.min() / row.max()\n",
    "m = np.random.randint(1, 10 - 0.001, size=(5, 3))\n",
    "print(m)\n",
    "np.apply_along_axis(func, axis=1, arr=m)"
   ]
  },
  {
   "cell_type": "code",
   "execution_count": 23,
   "id": "measured-harmony",
   "metadata": {},
   "outputs": [
    {
     "name": "stdout",
     "output_type": "stream",
     "text": [
      "[[2 7 8 9 5]\n",
      " [9 6 1 6 9]\n",
      " [2 4 9 4 4]\n",
      " [3 9 4 8 1]\n",
      " [8 9 5 4 4]] \n",
      "Mean: 5.6 Std: 2.6832815729997477\n"
     ]
    },
    {
     "data": {
      "text/plain": [
       "array([[-1.34164079,  0.52174919,  0.89442719,  1.26710519, -0.2236068 ],\n",
       "       [ 1.26710519,  0.1490712 , -1.71431878,  0.1490712 ,  1.26710519],\n",
       "       [-1.34164079, -0.59628479,  1.26710519, -0.59628479, -0.59628479],\n",
       "       [-0.96896279,  1.26710519, -0.59628479,  0.89442719, -1.71431878],\n",
       "       [ 0.89442719,  1.26710519, -0.2236068 , -0.59628479, -0.59628479]])"
      ]
     },
     "execution_count": 23,
     "metadata": {},
     "output_type": "execute_result"
    }
   ],
   "source": [
    "# 7). Normalize a 5x5 random matrix:\n",
    "#     Tips: a normalization operates like: (the array - the mean)/the standard deviation\n",
    "np.random.seed(101)\n",
    "\n",
    "m = np.random.randint(1, 10, size=(5, 5))\n",
    "print(m, \"\\nMean:\", m.mean(), \"Std:\", m.std())\n",
    "(m - m.mean()) / m.std()"
   ]
  },
  {
   "cell_type": "code",
   "execution_count": 24,
   "id": "better-kuwait",
   "metadata": {},
   "outputs": [
    {
     "data": {
      "text/plain": [
       "array([0, 1, 2, 3, 4, 5, 6, 7, 8, 9])"
      ]
     },
     "execution_count": 24,
     "metadata": {},
     "output_type": "execute_result"
    }
   ],
   "source": [
    "# 8). Convert 3 arrays into a 1d array.\n",
    "# arr1: 0,1,2\n",
    "# arr2: 3,4,5,6\n",
    "# arr3: 7,8,9\n",
    "# Generate the 3 arrays by numpy arange()\n",
    "# Desired Output:  ([0, 1, 2, 3, 4, 5, 6, 7, 8, 9])\n",
    "arr1 = np.arange(0, 3)\n",
    "arr2 = np.arange(3, 7)\n",
    "arr3 = np.arange(7, 10)\n",
    "\n",
    "np.hstack((arr1, arr2, arr3))"
   ]
  },
  {
   "cell_type": "code",
   "execution_count": 25,
   "id": "genetic-comfort",
   "metadata": {},
   "outputs": [
    {
     "name": "stdout",
     "output_type": "stream",
     "text": [
      "[51.63934637 57.06618802  2.84739417 17.1519941  68.52701289 83.38885237\n",
      " 30.696315   89.36041436 72.15366463 18.99370548 55.42220488 35.21284327\n",
      " 18.18905837 78.55939058 96.54735676 23.23513383  8.3560598  60.35423868\n",
      " 72.89854674 27.62360661]\n",
      "\n",
      "Items between 15 and 55 are:\n"
     ]
    },
    {
     "data": {
      "text/plain": [
       "array([51.63934637, 17.1519941 , 30.696315  , 18.99370548, 35.21284327,\n",
       "       18.18905837, 23.23513383, 27.62360661])"
      ]
     },
     "execution_count": 25,
     "metadata": {},
     "output_type": "execute_result"
    }
   ],
   "source": [
    "# 9). Get all items between 15 and 55 from aa, math expression: [15,55].\n",
    "# The aa is uniformly distributed integers in a \n",
    "#     1D array (size=20) with given values (<100). Requires defining a seed.\n",
    "np.random.seed(101)\n",
    "\n",
    "aa = np.random.uniform(high=100 - 0.001, size=20)\n",
    "print(aa)\n",
    "print()\n",
    "print(\"Items between 15 and 55 are:\")\n",
    "\n",
    "aa[(aa >= 15) & (aa <= 55)]"
   ]
  },
  {
   "cell_type": "code",
   "execution_count": 26,
   "id": "proved-antigua",
   "metadata": {},
   "outputs": [
    {
     "data": {
      "text/plain": [
       "((array([1, 3, 5, 7]),), array([2, 2, 4, 4]))"
      ]
     },
     "execution_count": 26,
     "metadata": {},
     "output_type": "execute_result"
    }
   ],
   "source": [
    "# 10). Get the positions where elements of a and b match.\n",
    "\n",
    "a = np.array([1,2,3,2,3,4,3,4,5,6])\n",
    "b = np.array([7,2,10,2,7,4,9,4,9,8])\n",
    "\n",
    "# Positions, matching elements\n",
    "np.where(a == b), a[np.where(a == b)]"
   ]
  },
  {
   "cell_type": "code",
   "execution_count": 27,
   "id": "instructional-legislature",
   "metadata": {},
   "outputs": [
    {
     "name": "stdout",
     "output_type": "stream",
     "text": [
      "[ 0  1  2  3  4  5  6  7  8  9 10 11 12 13 14 15 16 17 18 19 20]\n",
      "[ 0 -1  2 -1  4 -1  6 -1  8 -1 10 -1 12 -1 14 -1 16 -1 18 -1 20]\n"
     ]
    }
   ],
   "source": [
    "# 11). Use arange() to create an array from 0 to 20; replace all odd numbers with -1:\n",
    "\n",
    "m = np.arange(0, 20 + 1)\n",
    "print(m)\n",
    "m[m % 2 != 0] = -1\n",
    "print(m)"
   ]
  },
  {
   "cell_type": "code",
   "execution_count": 28,
   "id": "weird-disposal",
   "metadata": {},
   "outputs": [
    {
     "name": "stdout",
     "output_type": "stream",
     "text": [
      "662 ns ± 32.7 ns per loop (mean ± std. dev. of 7 runs, 1000000 loops each)\n",
      "761 ns ± 117 ns per loop (mean ± std. dev. of 7 runs, 1000000 loops each)\n"
     ]
    }
   ],
   "source": [
    "# 12). Use two addition functions of Numpy to add every element in a 1D array of size 10;\n",
    "#     and set a timer to time the two addition functions to see which one is faster.\n",
    "#      Tips: you can use Jupyter magic command %timeit\n",
    "\n",
    "x = np.arange(0, 10)\n",
    "y = np.arange(10, 20)\n",
    "\n",
    "%timeit x+y\n",
    "%timeit y+x"
   ]
  },
  {
   "cell_type": "code",
   "execution_count": 29,
   "id": "identified-hearing",
   "metadata": {},
   "outputs": [
    {
     "name": "stdout",
     "output_type": "stream",
     "text": [
      "[[  0.   0.   0.   0.   0.   0.   0.   0.   0.   0.]\n",
      " [  0.   0.   0.   0.   0.   0.   0.   0.   0.   0.]\n",
      " [  0.   0.   0.   0.   0.   0.   0.   0.   0.   0.]\n",
      " [  0.   0.   0.   0.   0.   0.   0.   0.   0.   0.]\n",
      " [  0.   0.   0.   0.   0.   0.   0.   0.   0.   0.]\n",
      " [  0.   0.   0.   0.   0.   0.   0.   0.   0.   0.]\n",
      " [  0.   0.   0.   0.   0.   0.   0.   0.   0.   0.]\n",
      " [660.   0.   0.   0.   0.   0.   0.   0.   0. 794.]\n",
      " [  0.   0.   0.   0. 654.   0.   0.   0.   0.   0.]\n",
      " [  0.   0.   0.   0.   0.   0.   0.   0.   0.   0.]]\n"
     ]
    }
   ],
   "source": [
    "# 13). Use np.put to randomly place 3 numbers (which can be any value, like 5) in a 2D 10x10 zero array:\n",
    "#         Tips: here, randomly placing 3 numbers means you should first randomly generate the \n",
    "#             indices of the 3 numbers in the 2D 10x10 array.\n",
    "\n",
    "m = np.zeros((10, 10))\n",
    "for _ in range(3):\n",
    "    d1 = np.random.randint(0, 10)\n",
    "    d2 = np.random.randint(0, 10)\n",
    "    v = np.random.randint(555, 999)\n",
    "    np.put(m[d1], d2, v)\n",
    "print(m)"
   ]
  },
  {
   "cell_type": "code",
   "execution_count": 30,
   "id": "french-atlas",
   "metadata": {},
   "outputs": [
    {
     "name": "stdout",
     "output_type": "stream",
     "text": [
      "[[28 63  7 10 52 56 38 73 52 18]\n",
      " [71 15 44  0 12 17 75 79 97 93]\n",
      " [24 36 63 19 35 30 10 60 20 27]\n",
      " [ 8 86 26 87 46 47 54 86  9 45]\n",
      " [ 2 18 58 92 11 10 94 35 28  3]]\n",
      "[[-11.7  23.3 -32.7 -29.7  12.3  16.3  -1.7  33.3  12.3 -21.7]\n",
      " [ 20.7 -35.3  -6.3 -50.3 -38.3 -33.3  24.7  28.7  46.7  42.7]\n",
      " [ -8.4   3.6  30.6 -13.4   2.6  -2.4 -22.4  27.6 -12.4  -5.4]\n",
      " [-41.4  36.6 -23.4  37.6  -3.4  -2.4   4.6  36.6 -40.4  -4.4]\n",
      " [-33.1 -17.1  22.9  56.9 -24.1 -25.1  58.9  -0.1  -7.1 -32.1]]\n"
     ]
    }
   ],
   "source": [
    "# 14). Subtract the mean of each row of a matrix X. X is a random 2D 5x10 array.\n",
    "m = np.random.randint(low=0, high=100, size=(5,10))\n",
    "print(m)\n",
    "def func(row):\n",
    "    return (row - row.mean())\n",
    "print(np.apply_along_axis(func, axis=1, arr=m))"
   ]
  },
  {
   "cell_type": "code",
   "execution_count": 31,
   "id": "romantic-following",
   "metadata": {},
   "outputs": [
    {
     "name": "stdout",
     "output_type": "stream",
     "text": [
      "[ 3  6  9 25 10  8]\n",
      "(1) To get all elements except the first: [ 6  9 25 10  8]\n",
      "(2) To get all elements except the last: [ 3  6  9 25 10]\n",
      "(3) To get every other element of the array (operation from the first element): [ 3  9 10]\n",
      "(4) To reverse the array: [ 8 10 25  9  6  3]\n"
     ]
    }
   ],
   "source": [
    "# 1) Given a 1d array: [ 3, 6, 9, 25, 10, 8]\n",
    "m = np.array([3, 6, 9, 25, 10, 8])\n",
    "print(m)\n",
    "print(\"(1) To get all elements except the first:\", m[1:])\n",
    "print(\"(2) To get all elements except the last:\", m[:len(m) - 1])   \n",
    "print(\"(3) To get every other element of the array (operation from the first element):\", m[::2])\n",
    "print(\"(4) To reverse the array:\", m[::-1])"
   ]
  },
  {
   "cell_type": "code",
   "execution_count": 32,
   "id": "conceptual-gossip",
   "metadata": {},
   "outputs": [
    {
     "name": "stdout",
     "output_type": "stream",
     "text": [
      "(1) create an array with the components as 0-31 and the shape is (8,4).\n",
      "[[ 0  1  2  3]\n",
      " [ 4  5  6  7]\n",
      " [ 8  9 10 11]\n",
      " [12 13 14 15]\n",
      " [16 17 18 19]\n",
      " [20 21 22 23]\n",
      " [24 25 26 27]\n",
      " [28 29 30 31]]\n",
      "\n",
      "(2) set the 3rd element in the 1st row to 0.\n",
      "[[ 0  1  0  3]\n",
      " [ 4  5  6  7]\n",
      " [ 8  9 10 11]\n",
      " [12 13 14 15]\n",
      " [16 17 18 19]\n",
      " [20 21 22 23]\n",
      " [24 25 26 27]\n",
      " [28 29 30 31]]\n",
      "\n",
      "(3) print out the second column.\n",
      "[ 1  5  9 13 17 21 25 29]\n",
      "\n",
      "(4) Get the 3x3 region from the array:\n",
      "[[ 9 10 11]\n",
      " [13 14 15]\n",
      " [17 18 19]]\n"
     ]
    }
   ],
   "source": [
    "# 2) Multidimensional Arrays:\n",
    "print(\"(1) create an array with the components as 0-31 and the shape is (8,4).\")\n",
    "m = np.arange(0, 31 + 1).reshape(8, 4)\n",
    "print(m)\n",
    "print()\n",
    "\n",
    "print(\"(2) set the 3rd element in the 1st row to 0.\")\n",
    "m[0, 2] = 0\n",
    "print(m)\n",
    "print()\n",
    "\n",
    "print(\"(3) print out the second column.\")\n",
    "print(m[:,1])\n",
    "print()\n",
    "\n",
    "print(\"(4) Get the 3x3 region from the array:\")\n",
    "print(m[2:3+2, range(m.shape[1] - 3, m.shape[1])])\n",
    "# ([ 9, 10, 11],\n",
    "#  [13, 14, 15],\n",
    "#  [17, 18, 19]])"
   ]
  },
  {
   "cell_type": "code",
   "execution_count": 33,
   "id": "refined-discussion",
   "metadata": {},
   "outputs": [
    {
     "name": "stdout",
     "output_type": "stream",
     "text": [
      "[[0. 1. 0. 1.]\n",
      " [1. 0. 1. 0.]\n",
      " [0. 1. 0. 1.]\n",
      " [1. 0. 1. 0.]]\n"
     ]
    }
   ],
   "source": [
    "# 3) Create an 4x4 matrix in which 0 and 1 are staggered, \n",
    "# with zeros on the main diagonal. Please use the numpy \"slicing\" method to realize.\n",
    "# [[0. 1. 0. 1.]\n",
    "#  [1. 0. 1. 0.]\n",
    "#  [0. 1. 0. 1.]\n",
    "#  [1. 0. 1. 0.]]\n",
    "\n",
    "m = np.zeros((4, 4))\n",
    "m[::2, 1::2] = 1\n",
    "m[1::2, ::2] = 1\n",
    "print(m)"
   ]
  },
  {
   "cell_type": "code",
   "execution_count": 34,
   "id": "ordered-deviation",
   "metadata": {},
   "outputs": [
    {
     "name": "stdout",
     "output_type": "stream",
     "text": [
      "[[2 2 2]\n",
      " [2 2 2]\n",
      " [2 2 2]]\n"
     ]
    }
   ],
   "source": [
    "# 1) Given 2 arrays:\n",
    "# a_2d : [[3,3,3],[4,4,4],[5,5,5]]\n",
    "# b_1d : [1,2,3]\n",
    "# Do the subtraction so that the result is:\n",
    "# [[2 2 2]\n",
    "#  [2 2 2]\n",
    "#  [2 2 2]]\n",
    "\n",
    "a_2d = np.array([[3,3,3],[4,4,4],[5,5,5]])\n",
    "b_1d = np.array([1,2,3])\n",
    "\n",
    "b_1d = b_1d[..., None]\n",
    "\n",
    "print(a_2d - b_1d)"
   ]
  },
  {
   "cell_type": "code",
   "execution_count": 35,
   "id": "digital-billy",
   "metadata": {},
   "outputs": [
    {
     "name": "stdout",
     "output_type": "stream",
     "text": [
      "by using numpy broadcasting\n",
      "[[ 1  2  3  4  5  6]\n",
      " [ 2  4  6  8 10 12]\n",
      " [ 3  6  9 12 15 18]\n",
      " [ 4  8 12 16 20 24]\n",
      " [ 5 10 15 20 25 30]\n",
      " [ 6 12 18 24 30 36]]\n",
      "\n",
      "by using Python nested for-loop\n",
      "[[ 1  2  3  4  5  6]\n",
      " [ 2  4  6  8 10 12]\n",
      " [ 3  6  9 12 15 18]\n",
      " [ 4  8 12 16 20 24]\n",
      " [ 5 10 15 20 25 30]\n",
      " [ 6 12 18 24 30 36]]\n"
     ]
    }
   ],
   "source": [
    "# 2). Write a 6x6 matrix for multiplication table:\n",
    "\n",
    "print(\"by using numpy broadcasting\")\n",
    "x = np.arange(1, 7)\n",
    "y = np.arange(1, 7).reshape(6, 1)\n",
    "print(y * x)\n",
    "print()\n",
    "\n",
    "print(\"by using Python nested for-loop\")\n",
    "o = list()\n",
    "for i in range(1, 7):\n",
    "    row = list()\n",
    "    for j in range(1, 7):\n",
    "        row.append(i * j)\n",
    "    o.append(row)\n",
    "o = np.array(o)\n",
    "print(o)\n",
    "\n",
    "# Desired output:\n",
    "\n",
    "# array([[ 1,  2,  3,  4,  5,  6],\n",
    "#        [ 2,  4,  6,  8, 10, 12],\n",
    "#        [ 3,  6,  9, 12, 15, 18],\n",
    "#        [ 4,  8, 12, 16, 20, 24],\n",
    "#        [ 5, 10, 15, 20, 25, 30],\n",
    "#        [ 6, 12, 18, 24, 30, 36]])\n",
    "\n"
   ]
  }
 ],
 "metadata": {
  "kernelspec": {
   "display_name": "Python 3",
   "language": "python",
   "name": "python3"
  },
  "language_info": {
   "codemirror_mode": {
    "name": "ipython",
    "version": 3
   },
   "file_extension": ".py",
   "mimetype": "text/x-python",
   "name": "python",
   "nbconvert_exporter": "python",
   "pygments_lexer": "ipython3",
   "version": "3.6.9"
  }
 },
 "nbformat": 4,
 "nbformat_minor": 5
}
